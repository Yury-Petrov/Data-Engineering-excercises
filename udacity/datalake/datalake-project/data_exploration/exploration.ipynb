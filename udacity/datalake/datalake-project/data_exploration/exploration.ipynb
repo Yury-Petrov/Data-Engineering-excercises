{
 "cells": [
  {
   "cell_type": "markdown",
   "metadata": {
    "collapsed": true,
    "pycharm": {
     "name": "#%% md\n"
    }
   },
   "source": [
    "<h1>Data exploration with spark</h1>\n",
    "This is just to get taste of how the data looks and what formats it uses.\n"
   ]
  },
  {
   "cell_type": "code",
   "execution_count": 1,
   "outputs": [
    {
     "name": "stdout",
     "output_type": "stream",
     "text": [
      "test\n"
     ]
    }
   ],
   "source": [
    "print('test')"
   ],
   "metadata": {
    "collapsed": false,
    "pycharm": {
     "name": "#%%\n"
    }
   }
  },
  {
   "cell_type": "markdown",
   "source": [
    "<h2> Imports </h2>"
   ],
   "metadata": {
    "collapsed": false,
    "pycharm": {
     "name": "#%% md\n"
    }
   }
  },
  {
   "cell_type": "code",
   "execution_count": 47,
   "outputs": [],
   "source": [
    "import os\n",
    "import configparser\n",
    "from pyspark.sql import SparkSession\n",
    "from pyspark.sql.types import StructType, StructField, StringType, IntegerType, FloatType\n",
    "from pyspark.sql.functions import col, row_number, last\n",
    "from pyspark.sql.window import Window"
   ],
   "metadata": {
    "collapsed": false,
    "pycharm": {
     "name": "#%%\n"
    }
   }
  },
  {
   "cell_type": "code",
   "execution_count": 3,
   "outputs": [],
   "source": [
    "def create_spark_session():\n",
    "    return SparkSession \\\n",
    "        .builder \\\n",
    "        .getOrCreate()"
   ],
   "metadata": {
    "collapsed": false,
    "pycharm": {
     "name": "#%%\n"
    }
   }
  },
  {
   "cell_type": "code",
   "execution_count": 4,
   "outputs": [],
   "source": [
    "# config = configparser.ConfigParser()\n",
    "# config.read_file(open('../src/dl.cfg'))\n",
    "# os.environ['AWS_ACCESS_KEY_ID'] = config['AWS']['AWS_ACCESS_KEY_ID']\n",
    "# os.environ['AWS_SECRET_ACCESS_KEY'] = config['AWS']['AWS_SECRET_ACCESS_KEY']\n",
    "spark = create_spark_session()"
   ],
   "metadata": {
    "collapsed": false,
    "pycharm": {
     "name": "#%%\n"
    }
   }
  },
  {
   "cell_type": "code",
   "execution_count": 6,
   "outputs": [],
   "source": [
    "log_df = spark.read.json('../data/log_data')"
   ],
   "metadata": {
    "collapsed": false,
    "pycharm": {
     "name": "#%%\n"
    }
   }
  },
  {
   "cell_type": "code",
   "execution_count": 7,
   "outputs": [
    {
     "name": "stdout",
     "output_type": "stream",
     "text": [
      "+--------------------+----------+---------+------+-------------+--------+---------+-----+--------------------+------+--------+-----------------+---------+--------------------+------+-------------+--------------------+------+\n",
      "|              artist|      auth|firstName|gender|itemInSession|lastName|   length|level|            location|method|    page|     registration|sessionId|                song|status|           ts|           userAgent|userId|\n",
      "+--------------------+----------+---------+------+-------------+--------+---------+-----+--------------------+------+--------+-----------------+---------+--------------------+------+-------------+--------------------+------+\n",
      "|            Harmonia| Logged In|     Ryan|     M|            0|   Smith|655.77751| free|San Jose-Sunnyval...|   PUT|NextSong|1.541016707796E12|      583|       Sehr kosmisch|   200|1542241826796|\"Mozilla/5.0 (X11...|    26|\n",
      "|         The Prodigy| Logged In|     Ryan|     M|            1|   Smith|260.07465| free|San Jose-Sunnyval...|   PUT|NextSong|1.541016707796E12|      583|     The Big Gundown|   200|1542242481796|\"Mozilla/5.0 (X11...|    26|\n",
      "|               Train| Logged In|     Ryan|     M|            2|   Smith|205.45261| free|San Jose-Sunnyval...|   PUT|NextSong|1.541016707796E12|      583|            Marry Me|   200|1542242741796|\"Mozilla/5.0 (X11...|    26|\n",
      "|                null| Logged In|    Wyatt|     M|            0|   Scott|     null| free|Eureka-Arcata-For...|   GET|    Home|1.540872073796E12|      563|                null|   200|1542247071796|Mozilla/5.0 (Wind...|     9|\n",
      "|                null| Logged In|   Austin|     M|            0| Rosales|     null| free|New York-Newark-J...|   GET|    Home|1.541059521796E12|      521|                null|   200|1542252577796|Mozilla/5.0 (Wind...|    12|\n",
      "|         Sony Wonder| Logged In|   Samuel|     M|            0|Gonzalez|218.06975| free|Houston-The Woodl...|   PUT|NextSong|1.540492941796E12|      597|           Blackbird|   200|1542253449796|\"Mozilla/5.0 (Mac...|    61|\n",
      "|                null| Logged In|   Samuel|     M|            1|Gonzalez|     null| free|Houston-The Woodl...|   GET|   About|1.540492941796E12|      597|                null|   200|1542253460796|\"Mozilla/5.0 (Mac...|    61|\n",
      "|                null|Logged Out|     null|  null|            0|    null|     null| paid|                null|   PUT|   Login|             null|      602|                null|   307|1542260074796|                null|      |\n",
      "|                null| Logged In|    Tegan|     F|            1|  Levine|     null| paid|Portland-South Po...|   GET|    Home|1.540794356796E12|      602|                null|   200|1542260277796|\"Mozilla/5.0 (Mac...|    80|\n",
      "|           Van Halen| Logged In|    Tegan|     F|            2|  Levine|289.38404| paid|Portland-South Po...|   PUT|NextSong|1.540794356796E12|      602|Best Of Both Worl...|   200|1542260935796|\"Mozilla/5.0 (Mac...|    80|\n",
      "|           Magic Sam| Logged In|    Tegan|     F|            3|  Levine|132.04853| paid|Portland-South Po...|   PUT|NextSong|1.540794356796E12|      602|Call Me If You Ne...|   200|1542261224796|\"Mozilla/5.0 (Mac...|    80|\n",
      "|Edward Sharpe & T...| Logged In|    Tegan|     F|            4|  Levine|306.31138| paid|Portland-South Po...|   PUT|NextSong|1.540794356796E12|      602|                Home|   200|1542261356796|\"Mozilla/5.0 (Mac...|    80|\n",
      "|Usher featuring w...| Logged In|    Tegan|     F|            5|  Levine|395.72853| paid|Portland-South Po...|   PUT|NextSong|1.540794356796E12|      602|                 OMG|   200|1542261662796|\"Mozilla/5.0 (Mac...|    80|\n",
      "|                null| Logged In|    Tegan|     F|            6|  Levine|     null| paid|Portland-South Po...|   GET|    Home|1.540794356796E12|      602|                null|   200|1542261713796|\"Mozilla/5.0 (Mac...|    80|\n",
      "|         Helen Reddy| Logged In|    Tegan|     F|            7|  Levine|176.50893| paid|Portland-South Po...|   PUT|NextSong|1.540794356796E12|      602| Candle On The Water|   200|1542262057796|\"Mozilla/5.0 (Mac...|    80|\n",
      "|        Taylor Swift| Logged In|    Tegan|     F|            8|  Levine|201.06404| paid|Portland-South Po...|   PUT|NextSong|1.540794356796E12|      602|            Our Song|   200|1542262233796|\"Mozilla/5.0 (Mac...|    80|\n",
      "|           Sean Paul| Logged In|    Tegan|     F|            9|  Levine|245.34159| paid|Portland-South Po...|   PUT|NextSong|1.540794356796E12|      602|Baby Boy [feat. B...|   200|1542262434796|\"Mozilla/5.0 (Mac...|    80|\n",
      "|         Soundgarden| Logged In|     Lily|     F|            0|    Koch|272.19546| paid|Chicago-Napervill...|   PUT|NextSong|1.541048010796E12|      582|      Black Hole Sun|   200|1542262456796|\"Mozilla/5.0 (X11...|    15|\n",
      "|         The Killers| Logged In|    Tegan|     F|           10|  Levine|360.75057| paid|Portland-South Po...|   PUT|NextSong|1.540794356796E12|      602|               Human|   200|1542262679796|\"Mozilla/5.0 (Mac...|    80|\n",
      "|       Amy Winehouse| Logged In|     Lily|     F|            1|    Koch|165.11955| paid|Chicago-Napervill...|   PUT|NextSong|1.541048010796E12|      582|            Addicted|   200|1542262728796|\"Mozilla/5.0 (X11...|    15|\n",
      "+--------------------+----------+---------+------+-------------+--------+---------+-----+--------------------+------+--------+-----------------+---------+--------------------+------+-------------+--------------------+------+\n",
      "only showing top 20 rows\n",
      "\n"
     ]
    }
   ],
   "source": [
    "log_df.cache()\n",
    "log_df.show()\n",
    "\n"
   ],
   "metadata": {
    "collapsed": false,
    "pycharm": {
     "name": "#%%\n"
    }
   }
  },
  {
   "cell_type": "code",
   "execution_count": 8,
   "outputs": [
    {
     "name": "stdout",
     "output_type": "stream",
     "text": [
      "root\n",
      " |-- artist: string (nullable = true)\n",
      " |-- auth: string (nullable = true)\n",
      " |-- firstName: string (nullable = true)\n",
      " |-- gender: string (nullable = true)\n",
      " |-- itemInSession: long (nullable = true)\n",
      " |-- lastName: string (nullable = true)\n",
      " |-- length: double (nullable = true)\n",
      " |-- level: string (nullable = true)\n",
      " |-- location: string (nullable = true)\n",
      " |-- method: string (nullable = true)\n",
      " |-- page: string (nullable = true)\n",
      " |-- registration: double (nullable = true)\n",
      " |-- sessionId: long (nullable = true)\n",
      " |-- song: string (nullable = true)\n",
      " |-- status: long (nullable = true)\n",
      " |-- ts: long (nullable = true)\n",
      " |-- userAgent: string (nullable = true)\n",
      " |-- userId: string (nullable = true)\n",
      "\n"
     ]
    }
   ],
   "source": [
    "log_df.printSchema()\n"
   ],
   "metadata": {
    "collapsed": false,
    "pycharm": {
     "name": "#%%\n"
    }
   }
  },
  {
   "cell_type": "code",
   "execution_count": 9,
   "outputs": [
    {
     "data": {
      "text/plain": "DataFrame[artist_id: string, artist_latitude: float, artist_location: string, artist_longitude: float, artist_name: string, duration: float, num_songs: int, song_id: string, title: string, year: int]"
     },
     "execution_count": 9,
     "metadata": {},
     "output_type": "execute_result"
    }
   ],
   "source": [
    "schema = StructType([\n",
    "    StructField(\"artist_id\", StringType()),\n",
    "    StructField(\"artist_latitude\", FloatType()),\n",
    "    StructField(\"artist_location\", StringType()),\n",
    "    StructField(\"artist_longitude\", FloatType()),\n",
    "    StructField(\"artist_name\", StringType()),\n",
    "    StructField(\"duration\", FloatType()),\n",
    "    StructField(\"num_songs\", IntegerType()),\n",
    "    StructField(\"song_id\", StringType()),\n",
    "    StructField(\"title\", StringType()),\n",
    "    StructField(\"year\", IntegerType())\n",
    "])\n",
    "song_df = spark.read.json('../data/song_data/*/*/*/*.json', schema=schema)\n",
    "song_df.cache()"
   ],
   "metadata": {
    "collapsed": false,
    "pycharm": {
     "name": "#%%\n"
    }
   }
  },
  {
   "cell_type": "code",
   "execution_count": 17,
   "outputs": [
    {
     "name": "stdout",
     "output_type": "stream",
     "text": [
      "+------------------+---------------+--------------------+----------------+--------------------+---------+---------+------------------+--------------------+----+\n",
      "|         artist_id|artist_latitude|     artist_location|artist_longitude|         artist_name| duration|num_songs|           song_id|               title|year|\n",
      "+------------------+---------------+--------------------+----------------+--------------------+---------+---------+------------------+--------------------+----+\n",
      "|ARDR4AC1187FB371A1|           null|                    |            null|Montserrat Caball...|511.16364|        1|SOBAYLL12A8C138AF9|Sono andati? Fing...|   0|\n",
      "|AREBBGV1187FB523D2|           null|         Houston, TX|            null|Mike Jones (Featu...|173.66159|        1|SOOLYAZ12A6701F4A6|Laws Patrolling (...|   0|\n",
      "|ARMAC4T1187FB3FA4C|       40.82624|   Morris Plains, NJ|       -74.47995|The Dillinger Esc...|207.77751|        1|SOBBUGU12A8C13E95D|Setting Fire to S...|2004|\n",
      "|ARPBNLO1187FB3D52F|       40.71455|        New York, NY|       -74.00712|            Tiny Tim| 43.36281|        1|SOAOIBZ12AB01815BE|I Hold Your Hand ...|2000|\n",
      "|ARDNS031187B9924F0|       32.67828|             Georgia|       -83.22295|          Tim Wilson|186.48772|        1|SONYPOM12A8C13B2D7|I Think My Wife I...|2005|\n",
      "|ARNF6401187FB57032|       40.79086|New York, NY [Man...|       -73.96644|   Sophie B. Hawkins|  305.162|        1|SONWXQJ12A8C134D94|The Ballad Of Sle...|1994|\n",
      "|ARLTWXK1187FB5A3F8|       32.74863|      Fort Worth, TX|       -97.32925|         King Curtis|326.00772|        1|SODREIN12A58A7F2E5|A Whiter Shade Of...|   0|\n",
      "|ARPFHN61187FB575F6|       41.88415|         Chicago, IL|       -87.63241|         Lupe Fiasco|279.97995|        1|SOWQTQZ12A58A7B63E|Streets On Fire (...|   0|\n",
      "|ARI2JSK1187FB496EF|       51.50632|     London, England|        -0.12714|Nick Ingman;Gavyn...|111.62077|        1|SODUJBS12A8C132150|Wessex Loses a Bride|   0|\n",
      "|AROUOZZ1187B9ABE51|       40.79195|New York, NY [Spa...|       -73.94512|         Willie Bobo|168.25424|        1|SOBZBAZ12A6D4F8742|      Spanish Grease|1997|\n",
      "|AR0RCMP1187FB3F427|       30.08615|        Beaumont, TX|       -94.10158|    Billie Jo Spears|133.32854|        1|SOGXHEG12AB018653E|It Makes No Diffe...|1992|\n",
      "|AR9AWNF1187B9AB0B4|           null|Seattle, Washingt...|            null|Kenny G featuring...|236.93016|        1|SOZHPGD12A8C1394FE|     Baby Come To Me|   0|\n",
      "|AR47JEX1187B995D81|       37.83721|          Nevada, MO|       -94.35868|        SUE THOMPSON|124.86485|        1|SOBLGCN12AB0183212|James (Hold The L...|1985|\n",
      "|ARKFYS91187B98E58F|           null|                    |            null|Jeff And Sheri Ea...| 267.7024|        1|SOYMRWW12A6D4FAB14|The Moon And I (O...|   0|\n",
      "|AR10USD1187B99F3F1|           null|Burlington, Ontar...|            null|Tweeterfriendly M...|189.57016|        1|SOHKNRJ12A6701D1F8|        Drop of Rain|   0|\n",
      "|ARB29H41187B98F0EF|       41.88415|             Chicago|       -87.63241|       Terry Callier|342.56934|        1|SOGNCJP12A58A80271|Do You Finally Ne...|1972|\n",
      "|ARQGYP71187FB44566|       34.31109|         Mineola, AR|       -94.02978|        Jimmy Wakely|151.84933|        1|SOWTBJW12AC468AC6E|Broken-Down Merry...|   0|\n",
      "|ARMBR4Y1187B9990EB|       37.77916|     California - SF|      -122.42005|        David Martin|241.47546|        1|SOTTDKS12AB018D69B|It Wont Be Christmas|   0|\n",
      "|AR36F9J1187FB406F1|       56.27609|             Denmark|         9.51695|      Bombay Rockers|230.71301|        1|SOBKWDJ12A8C13B2F3|Wild Rose (Back 2...|   0|\n",
      "|ARBEBBY1187B9B43DB|           null|     Gainesville, FL|            null|           Tom Petty| 236.1726|        1|SOFFKZS12AB017F194|A Higher Place (A...|1994|\n",
      "+------------------+---------------+--------------------+----------------+--------------------+---------+---------+------------------+--------------------+----+\n",
      "only showing top 20 rows\n",
      "\n",
      "root\n",
      " |-- artist_id: string (nullable = true)\n",
      " |-- artist_latitude: float (nullable = true)\n",
      " |-- artist_location: string (nullable = true)\n",
      " |-- artist_longitude: float (nullable = true)\n",
      " |-- artist_name: string (nullable = true)\n",
      " |-- duration: float (nullable = true)\n",
      " |-- num_songs: integer (nullable = true)\n",
      " |-- song_id: string (nullable = true)\n",
      " |-- title: string (nullable = true)\n",
      " |-- year: integer (nullable = true)\n",
      "\n"
     ]
    }
   ],
   "source": [
    "song_df.show()\n",
    "song_df.printSchema()"
   ],
   "metadata": {
    "collapsed": false,
    "pycharm": {
     "name": "#%%\n"
    }
   }
  },
  {
   "cell_type": "markdown",
   "source": [
    "<h3>Processing song data</h3>"
   ],
   "metadata": {
    "collapsed": false,
    "pycharm": {
     "name": "#%% md\n"
    }
   }
  },
  {
   "cell_type": "markdown",
   "source": [
    "Song table\n",
    "Requirements:\n",
    "\n",
    "* song_id, title, artist_id, year, duration"
   ],
   "metadata": {
    "collapsed": false,
    "pycharm": {
     "name": "#%% md\n"
    }
   }
  },
  {
   "cell_type": "code",
   "execution_count": 15,
   "outputs": [],
   "source": [
    "song_table_df = song_df.select(\n",
    "    song_df.song_id,\n",
    "    song_df.title,\n",
    "    song_df.artist_id,\n",
    "    song_df.year,\n",
    "    song_df.duration\n",
    ")\n",
    "song_table_df.show()"
   ],
   "metadata": {
    "collapsed": false,
    "pycharm": {
     "name": "#%%\n"
    }
   }
  },
  {
   "cell_type": "markdown",
   "source": [
    "Artists table\n",
    "Requirements:\n",
    "\n",
    "* artist_id, name, location, lattitude, longitude"
   ],
   "metadata": {
    "collapsed": false,
    "pycharm": {
     "name": "#%% md\n"
    }
   }
  },
  {
   "cell_type": "code",
   "execution_count": 19,
   "outputs": [
    {
     "name": "stdout",
     "output_type": "stream",
     "text": [
      "+------------------+--------------------+--------------------+--------+----------+\n",
      "|         artist_id|                name|            location|latitude| longitude|\n",
      "+------------------+--------------------+--------------------+--------+----------+\n",
      "|ARDR4AC1187FB371A1|Montserrat Caball...|                    |    null|      null|\n",
      "|AREBBGV1187FB523D2|Mike Jones (Featu...|         Houston, TX|    null|      null|\n",
      "|ARMAC4T1187FB3FA4C|The Dillinger Esc...|   Morris Plains, NJ|40.82624| -74.47995|\n",
      "|ARPBNLO1187FB3D52F|            Tiny Tim|        New York, NY|40.71455| -74.00712|\n",
      "|ARDNS031187B9924F0|          Tim Wilson|             Georgia|32.67828| -83.22295|\n",
      "|ARNF6401187FB57032|   Sophie B. Hawkins|New York, NY [Man...|40.79086| -73.96644|\n",
      "|ARLTWXK1187FB5A3F8|         King Curtis|      Fort Worth, TX|32.74863| -97.32925|\n",
      "|ARPFHN61187FB575F6|         Lupe Fiasco|         Chicago, IL|41.88415| -87.63241|\n",
      "|ARI2JSK1187FB496EF|Nick Ingman;Gavyn...|     London, England|51.50632|  -0.12714|\n",
      "|AROUOZZ1187B9ABE51|         Willie Bobo|New York, NY [Spa...|40.79195| -73.94512|\n",
      "|AR0RCMP1187FB3F427|    Billie Jo Spears|        Beaumont, TX|30.08615| -94.10158|\n",
      "|AR9AWNF1187B9AB0B4|Kenny G featuring...|Seattle, Washingt...|    null|      null|\n",
      "|AR47JEX1187B995D81|        SUE THOMPSON|          Nevada, MO|37.83721| -94.35868|\n",
      "|ARKFYS91187B98E58F|Jeff And Sheri Ea...|                    |    null|      null|\n",
      "|AR10USD1187B99F3F1|Tweeterfriendly M...|Burlington, Ontar...|    null|      null|\n",
      "|ARB29H41187B98F0EF|       Terry Callier|             Chicago|41.88415| -87.63241|\n",
      "|ARQGYP71187FB44566|        Jimmy Wakely|         Mineola, AR|34.31109| -94.02978|\n",
      "|ARMBR4Y1187B9990EB|        David Martin|     California - SF|37.77916|-122.42005|\n",
      "|AR36F9J1187FB406F1|      Bombay Rockers|             Denmark|56.27609|   9.51695|\n",
      "|ARBEBBY1187B9B43DB|           Tom Petty|     Gainesville, FL|    null|      null|\n",
      "+------------------+--------------------+--------------------+--------+----------+\n",
      "only showing top 20 rows\n",
      "\n"
     ]
    }
   ],
   "source": [
    "artists_table_df = song_df.select(\n",
    "    song_df.artist_id,\n",
    "    song_df.artist_name.alias('name'),\n",
    "    song_df.artist_location.alias('location'),\n",
    "    song_df.artist_latitude.alias('latitude'),\n",
    "    song_df.artist_longitude.alias('longitude')\n",
    ")\n",
    "artists_table_df.show()"
   ],
   "metadata": {
    "collapsed": false,
    "pycharm": {
     "name": "#%%\n"
    }
   }
  },
  {
   "cell_type": "markdown",
   "source": [
    "<h2>Logs</h2>\n",
    "song plays"
   ],
   "metadata": {
    "collapsed": false,
    "pycharm": {
     "name": "#%% md\n"
    }
   }
  },
  {
   "cell_type": "code",
   "execution_count": 51,
   "outputs": [
    {
     "name": "stdout",
     "output_type": "stream",
     "text": [
      "+---------+------+-----+------+------------+\n",
      "|lastName |gender|level|userid|user_row_num|\n",
      "+---------+------+-----+------+------------+\n",
      "|Burke    |F     |free |51    |1           |\n",
      "|Jordan   |F     |free |7     |1           |\n",
      "|Koch     |F     |paid |15    |1           |\n",
      "|Cook     |M     |free |54    |1           |\n",
      "|Fox      |M     |free |101   |1           |\n",
      "|Porter   |F     |free |11    |1           |\n",
      "|Lynch    |F     |free |29    |1           |\n",
      "|Simpson  |F     |free |69    |1           |\n",
      "|Barrett  |M     |paid |42    |1           |\n",
      "|Klein    |M     |paid |73    |1           |\n",
      "|Lee      |M     |free |87    |1           |\n",
      "|Calhoun  |F     |free |64    |1           |\n",
      "|Valdez   |M     |free |3     |1           |\n",
      "|Watkins  |F     |paid |30    |1           |\n",
      "|Ayala    |F     |free |34    |1           |\n",
      "|Cooper   |F     |free |59    |1           |\n",
      "|Summers  |F     |free |8     |1           |\n",
      "|Wilson   |F     |free |22    |1           |\n",
      "|West     |M     |free |28    |1           |\n",
      "|Young    |F     |free |85    |1           |\n",
      "|George   |M     |free |16    |1           |\n",
      "|Taylor   |F     |free |35    |1           |\n",
      "|Smith    |M     |free |52    |1           |\n",
      "|Wise     |F     |free |71    |1           |\n",
      "|Powell   |F     |free |98    |1           |\n",
      "|Norris   |F     |free |47    |1           |\n",
      "|Banks    |F     |free |99    |1           |\n",
      "|Finley   |F     |free |96    |1           |\n",
      "|Miles    |M     |free |43    |1           |\n",
      "|Davis    |M     |free |5     |1           |\n",
      "|Barrera  |M     |free |100   |1           |\n",
      "|Rogers   |M     |free |18    |1           |\n",
      "|Hayes    |F     |paid |70    |1           |\n",
      "|Carter   |M     |free |27    |1           |\n",
      "|Gonzalez |M     |free |61    |1           |\n",
      "|Gutierrez|M     |free |75    |1           |\n",
      "|Jones    |F     |free |17    |1           |\n",
      "|Smith    |M     |free |26    |1           |\n",
      "|Roth     |F     |free |78    |1           |\n",
      "|Herman   |F     |free |77    |1           |\n",
      "|Sanchez  |F     |free |89    |1           |\n",
      "|Owens    |F     |free |6     |1           |\n",
      "|Larson   |M     |free |60    |1           |\n",
      "|Rodriguez|F     |free |68    |1           |\n",
      "|Butler   |F     |free |90    |1           |\n",
      "|Thomas   |M     |free |19    |1           |\n",
      "|Gilmore  |M     |free |23    |1           |\n",
      "|Clark    |M     |free |41    |1           |\n",
      "|Johnson  |M     |free |55    |1           |\n",
      "|Johnson  |F     |paid |95    |1           |\n",
      "|Jones    |F     |free |38    |1           |\n",
      "|Garrison |M     |free |40    |1           |\n",
      "|Graves   |M     |paid |25    |1           |\n",
      "|Kirby    |F     |paid |44    |1           |\n",
      "|Martinez |F     |paid |82    |1           |\n",
      "|Williams |F     |free |53    |1           |\n",
      "|Smith    |F     |free |92    |1           |\n",
      "|Hess     |M     |free |86    |1           |\n",
      "|Benson   |F     |paid |58    |1           |\n",
      "|Colon    |F     |free |81    |1           |\n",
      "|Harris   |M     |free |33    |1           |\n",
      "|Sutton   |F     |free |48    |1           |\n",
      "|Harrell  |F     |paid |97    |1           |\n",
      "|Santana  |M     |free |67    |1           |\n",
      "|Hunt     |F     |free |84    |1           |\n",
      "|Martin   |M     |free |79    |1           |\n",
      "|Griffin  |F     |paid |24    |1           |\n",
      "|Scott    |M     |free |9     |1           |\n",
      "|Burns    |F     |free |32    |1           |\n",
      "|Rodriguez|M     |free |88    |1           |\n",
      "|Ramirez  |M     |paid |20    |1           |\n",
      "|Freeman  |F     |free |56    |1           |\n",
      "|Jones    |M     |free |36    |1           |\n",
      "|Cruz     |F     |free |10    |1           |\n",
      "|Hicks    |F     |free |37    |1           |\n",
      "|Cuevas   |F     |free |49    |1           |\n",
      "|Johnson  |F     |free |63    |1           |\n",
      "|Davidson |F     |paid |65    |1           |\n",
      "|Terrell  |F     |free |4     |1           |\n",
      "|Frye     |M     |free |39    |1           |\n",
      "|Moreno   |M     |free |62    |1           |\n",
      "|Rosales  |M     |free |12    |1           |\n",
      "|White    |F     |free |83    |1           |\n",
      "|Robinson |F     |free |13    |1           |\n",
      "|Harris   |M     |free |14    |1           |\n",
      "|Arellano |M     |free |66    |1           |\n",
      "|Bell     |M     |free |91    |1           |\n",
      "|Chavez   |M     |free |94    |1           |\n",
      "|Brock    |F     |paid |72    |1           |\n",
      "|Parker   |M     |free |74    |1           |\n",
      "|Duffy    |F     |free |76    |1           |\n",
      "|Benjamin |F     |free |2     |1           |\n",
      "|Levine   |F     |free |80    |1           |\n",
      "|Robinson |F     |free |50    |1           |\n",
      "|Norris   |M     |free |45    |1           |\n",
      "|Gay      |F     |free |57    |1           |\n",
      "+---------+------+-----+------+------------+\n",
      "\n"
     ]
    }
   ],
   "source": [
    "user_id_by_ts_window = Window.partitionBy(\n",
    "    col('userId'))\\\n",
    "    .orderBy(col('ts'))\n",
    "user_id_by_ts_window_ranged = Window.partitionBy(\n",
    "    col('userId'))\\\n",
    "    .orderBy(col('ts'))\\\n",
    "    .rangeBetween(Window.unboundedPreceding, Window.currentRow)\n",
    "next_song_log_df = log_df.filter(col('page') == 'NextSong')\n",
    "next_song_log_df = next_song_log_df\\\n",
    "    .withColumn('user_row_num', row_number().over(user_id_by_ts_window))\\\n",
    "    .withColumn('firstName', last('firstName').over(user_id_by_ts_window_ranged))\\\n",
    "    .withColumn('lastName', last('lastName').over(user_id_by_ts_window_ranged))\\\n",
    "    .withColumn('gender', last('gender').over(user_id_by_ts_window_ranged))\\\n",
    "    .withColumn('level', last('level').over(user_id_by_ts_window_ranged))\\\n",
    "    .select('lastName', 'gender', 'level', 'userid','user_row_num')\\\n",
    "    .where(col('user_row_num') == 1)\n",
    "next_song_log_df.show(1000, False)"
   ],
   "metadata": {
    "collapsed": false,
    "pycharm": {
     "name": "#%%\n"
    }
   }
  },
  {
   "cell_type": "code",
   "execution_count": 33,
   "outputs": [
    {
     "name": "stdout",
     "output_type": "stream",
     "text": [
      "+------+----+---------+------+-------------+--------+------+-----+--------+------+----+------------+---------+----+------+---+---------+------+\n",
      "|artist|auth|firstName|gender|itemInSession|lastName|length|level|location|method|page|registration|sessionId|song|status| ts|userAgent|userId|\n",
      "+------+----+---------+------+-------------+--------+------+-----+--------+------+----+------------+---------+----+------+---+---------+------+\n",
      "+------+----+---------+------+-------------+--------+------+-----+--------+------+----+------------+---------+----+------+---+---------+------+\n",
      "\n"
     ]
    }
   ],
   "source": [
    "# next_song_log_df.where(col('auth') != 'Logged In').show()\n"
   ],
   "metadata": {
    "collapsed": false,
    "pycharm": {
     "name": "#%%\n"
    }
   }
  }
 ],
 "metadata": {
  "kernelspec": {
   "display_name": "Python 3",
   "language": "python",
   "name": "python3"
  },
  "language_info": {
   "codemirror_mode": {
    "name": "ipython",
    "version": 2
   },
   "file_extension": ".py",
   "mimetype": "text/x-python",
   "name": "python",
   "nbconvert_exporter": "python",
   "pygments_lexer": "ipython2",
   "version": "2.7.6"
  }
 },
 "nbformat": 4,
 "nbformat_minor": 0
}