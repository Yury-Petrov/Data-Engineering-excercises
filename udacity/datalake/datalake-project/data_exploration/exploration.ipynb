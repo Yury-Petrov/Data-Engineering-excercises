{
 "cells": [
  {
   "cell_type": "markdown",
   "metadata": {
    "collapsed": true,
    "pycharm": {
     "name": "#%% md\n"
    }
   },
   "source": [
    "<h1>Data exploration with spark</h1>\n",
    "This is just to get taste of how the data looks and what formats it uses.\n"
   ]
  },
  {
   "cell_type": "code",
   "execution_count": 1,
   "metadata": {
    "pycharm": {
     "name": "#%%\n"
    }
   },
   "outputs": [
    {
     "name": "stdout",
     "output_type": "stream",
     "text": [
      "test 2020-06-20 17:11:24.542307\n"
     ]
    }
   ],
   "source": [
    "import uuid\n",
    "from datetime import datetime\n",
    "print(f'test {datetime.now()}')"
   ]
  },
  {
   "cell_type": "markdown",
   "metadata": {
    "pycharm": {
     "name": "#%% md\n"
    }
   },
   "source": [
    "<h2> Imports </h2>"
   ]
  },
  {
   "cell_type": "code",
   "execution_count": 2,
   "metadata": {
    "pycharm": {
     "name": "#%%\n"
    }
   },
   "outputs": [],
   "source": [
    "import os\n",
    "import configparser\n",
    "from pyspark.sql import SparkSession\n",
    "from pyspark.sql.types import StructType, StructField, StringType, IntegerType, FloatType, TimestampType\n",
    "from pyspark.sql.functions import col, row_number, last, from_unixtime, year, month, dayofmonth, hour, weekofyear, \\\n",
    "    dayofweek, udf\n",
    "from pyspark.sql.window import Window"
   ]
  },
  {
   "cell_type": "code",
   "execution_count": 3,
   "metadata": {
    "pycharm": {
     "name": "#%%\n"
    }
   },
   "outputs": [],
   "source": [
    "def create_spark_session():\n",
    "    return SparkSession \\\n",
    "        .builder \\\n",
    "        .getOrCreate()"
   ]
  },
  {
   "cell_type": "code",
   "execution_count": 5,
   "metadata": {
    "pycharm": {
     "name": "#%%\n"
    }
   },
   "outputs": [],
   "source": [
    "config = configparser.ConfigParser()\n",
    "config.read_file(open('../src/dl.cfg'))\n",
    "os.environ['AWS_ACCESS_KEY_ID'] = config['AWS']['AWS_ACCESS_KEY_ID']\n",
    "os.environ['AWS_SECRET_ACCESS_KEY'] = config['AWS']['AWS_SECRET_ACCESS_KEY']\n",
    "spark = create_spark_session()"
   ]
  },
  {
   "cell_type": "code",
   "execution_count": 6,
   "metadata": {
    "pycharm": {
     "name": "#%%\n"
    }
   },
   "outputs": [],
   "source": [
    "log_df = spark.read.json('../data/log_data')"
   ]
  },
  {
   "cell_type": "code",
   "execution_count": 7,
   "metadata": {
    "pycharm": {
     "name": "#%%\n"
    }
   },
   "outputs": [
    {
     "name": "stdout",
     "output_type": "stream",
     "text": [
      "+--------------------+----------+---------+------+-------------+--------+---------+-----+--------------------+------+--------+-----------------+---------+--------------------+------+-------------+--------------------+------+\n",
      "|              artist|      auth|firstName|gender|itemInSession|lastName|   length|level|            location|method|    page|     registration|sessionId|                song|status|           ts|           userAgent|userId|\n",
      "+--------------------+----------+---------+------+-------------+--------+---------+-----+--------------------+------+--------+-----------------+---------+--------------------+------+-------------+--------------------+------+\n",
      "|            Harmonia| Logged In|     Ryan|     M|            0|   Smith|655.77751| free|San Jose-Sunnyval...|   PUT|NextSong|1.541016707796E12|      583|       Sehr kosmisch|   200|1542241826796|\"Mozilla/5.0 (X11...|    26|\n",
      "|         The Prodigy| Logged In|     Ryan|     M|            1|   Smith|260.07465| free|San Jose-Sunnyval...|   PUT|NextSong|1.541016707796E12|      583|     The Big Gundown|   200|1542242481796|\"Mozilla/5.0 (X11...|    26|\n",
      "|               Train| Logged In|     Ryan|     M|            2|   Smith|205.45261| free|San Jose-Sunnyval...|   PUT|NextSong|1.541016707796E12|      583|            Marry Me|   200|1542242741796|\"Mozilla/5.0 (X11...|    26|\n",
      "|                null| Logged In|    Wyatt|     M|            0|   Scott|     null| free|Eureka-Arcata-For...|   GET|    Home|1.540872073796E12|      563|                null|   200|1542247071796|Mozilla/5.0 (Wind...|     9|\n",
      "|                null| Logged In|   Austin|     M|            0| Rosales|     null| free|New York-Newark-J...|   GET|    Home|1.541059521796E12|      521|                null|   200|1542252577796|Mozilla/5.0 (Wind...|    12|\n",
      "|         Sony Wonder| Logged In|   Samuel|     M|            0|Gonzalez|218.06975| free|Houston-The Woodl...|   PUT|NextSong|1.540492941796E12|      597|           Blackbird|   200|1542253449796|\"Mozilla/5.0 (Mac...|    61|\n",
      "|                null| Logged In|   Samuel|     M|            1|Gonzalez|     null| free|Houston-The Woodl...|   GET|   About|1.540492941796E12|      597|                null|   200|1542253460796|\"Mozilla/5.0 (Mac...|    61|\n",
      "|                null|Logged Out|     null|  null|            0|    null|     null| paid|                null|   PUT|   Login|             null|      602|                null|   307|1542260074796|                null|      |\n",
      "|                null| Logged In|    Tegan|     F|            1|  Levine|     null| paid|Portland-South Po...|   GET|    Home|1.540794356796E12|      602|                null|   200|1542260277796|\"Mozilla/5.0 (Mac...|    80|\n",
      "|           Van Halen| Logged In|    Tegan|     F|            2|  Levine|289.38404| paid|Portland-South Po...|   PUT|NextSong|1.540794356796E12|      602|Best Of Both Worl...|   200|1542260935796|\"Mozilla/5.0 (Mac...|    80|\n",
      "|           Magic Sam| Logged In|    Tegan|     F|            3|  Levine|132.04853| paid|Portland-South Po...|   PUT|NextSong|1.540794356796E12|      602|Call Me If You Ne...|   200|1542261224796|\"Mozilla/5.0 (Mac...|    80|\n",
      "|Edward Sharpe & T...| Logged In|    Tegan|     F|            4|  Levine|306.31138| paid|Portland-South Po...|   PUT|NextSong|1.540794356796E12|      602|                Home|   200|1542261356796|\"Mozilla/5.0 (Mac...|    80|\n",
      "|Usher featuring w...| Logged In|    Tegan|     F|            5|  Levine|395.72853| paid|Portland-South Po...|   PUT|NextSong|1.540794356796E12|      602|                 OMG|   200|1542261662796|\"Mozilla/5.0 (Mac...|    80|\n",
      "|                null| Logged In|    Tegan|     F|            6|  Levine|     null| paid|Portland-South Po...|   GET|    Home|1.540794356796E12|      602|                null|   200|1542261713796|\"Mozilla/5.0 (Mac...|    80|\n",
      "|         Helen Reddy| Logged In|    Tegan|     F|            7|  Levine|176.50893| paid|Portland-South Po...|   PUT|NextSong|1.540794356796E12|      602| Candle On The Water|   200|1542262057796|\"Mozilla/5.0 (Mac...|    80|\n",
      "|        Taylor Swift| Logged In|    Tegan|     F|            8|  Levine|201.06404| paid|Portland-South Po...|   PUT|NextSong|1.540794356796E12|      602|            Our Song|   200|1542262233796|\"Mozilla/5.0 (Mac...|    80|\n",
      "|           Sean Paul| Logged In|    Tegan|     F|            9|  Levine|245.34159| paid|Portland-South Po...|   PUT|NextSong|1.540794356796E12|      602|Baby Boy [feat. B...|   200|1542262434796|\"Mozilla/5.0 (Mac...|    80|\n",
      "|         Soundgarden| Logged In|     Lily|     F|            0|    Koch|272.19546| paid|Chicago-Napervill...|   PUT|NextSong|1.541048010796E12|      582|      Black Hole Sun|   200|1542262456796|\"Mozilla/5.0 (X11...|    15|\n",
      "|         The Killers| Logged In|    Tegan|     F|           10|  Levine|360.75057| paid|Portland-South Po...|   PUT|NextSong|1.540794356796E12|      602|               Human|   200|1542262679796|\"Mozilla/5.0 (Mac...|    80|\n",
      "|       Amy Winehouse| Logged In|     Lily|     F|            1|    Koch|165.11955| paid|Chicago-Napervill...|   PUT|NextSong|1.541048010796E12|      582|            Addicted|   200|1542262728796|\"Mozilla/5.0 (X11...|    15|\n",
      "+--------------------+----------+---------+------+-------------+--------+---------+-----+--------------------+------+--------+-----------------+---------+--------------------+------+-------------+--------------------+------+\n",
      "only showing top 20 rows\n",
      "\n"
     ]
    }
   ],
   "source": [
    "log_df.cache()\n",
    "log_df.show()\n",
    "\n"
   ]
  },
  {
   "cell_type": "code",
   "execution_count": 12,
   "metadata": {
    "pycharm": {
     "name": "#%%\n"
    }
   },
   "outputs": [
    {
     "name": "stdout",
     "output_type": "stream",
     "text": [
      "root\n",
      " |-- artist: string (nullable = true)\n",
      " |-- auth: string (nullable = true)\n",
      " |-- firstName: string (nullable = true)\n",
      " |-- gender: string (nullable = true)\n",
      " |-- itemInSession: long (nullable = true)\n",
      " |-- lastName: string (nullable = true)\n",
      " |-- length: double (nullable = true)\n",
      " |-- level: string (nullable = true)\n",
      " |-- location: string (nullable = true)\n",
      " |-- method: string (nullable = true)\n",
      " |-- page: string (nullable = true)\n",
      " |-- registration: double (nullable = true)\n",
      " |-- sessionId: long (nullable = true)\n",
      " |-- song: string (nullable = true)\n",
      " |-- status: long (nullable = true)\n",
      " |-- ts: long (nullable = true)\n",
      " |-- userAgent: string (nullable = true)\n",
      " |-- userId: string (nullable = true)\n",
      "\n"
     ]
    }
   ],
   "source": [
    "log_df.printSchema()\n"
   ]
  },
  {
   "cell_type": "code",
   "execution_count": 8,
   "metadata": {
    "pycharm": {
     "name": "#%%\n"
    }
   },
   "outputs": [],
   "source": [
    "schema = StructType([\n",
    "    StructField(\"artist_id\", StringType()),\n",
    "    StructField(\"artist_latitude\", FloatType()),\n",
    "    StructField(\"artist_location\", StringType()),\n",
    "    StructField(\"artist_longitude\", FloatType()),\n",
    "    StructField(\"artist_name\", StringType()),\n",
    "    StructField(\"user_agent\", StringType()),\n",
    "    StructField(\"num_songs\", IntegerType()),\n",
    "    StructField(\"song_id\", StringType()),\n",
    "    StructField(\"title\", StringType()),\n",
    "    StructField(\"year\", IntegerType())\n",
    "])\n",
    "song_df = spark.read.json('../data/song_data/*/*/*/*.json', schema=schema)\\\n",
    "    .dropDuplicates([\"song_id\"])\n",
    "# song_df.cache()"
   ]
  },
  {
   "cell_type": "code",
   "execution_count": 18,
   "metadata": {
    "pycharm": {
     "name": "#%%\n"
    }
   },
   "outputs": [
    {
     "name": "stdout",
     "output_type": "stream",
     "text": [
      "+------------------+---------------+-----------------+----------------+--------------------+----------+---------+---------+------------------+--------------------+----+\n",
      "|         artist_id|artist_latitude|  artist_location|artist_longitude|         artist_name|user_agent| duration|num_songs|           song_id|               title|year|\n",
      "+------------------+---------------+-----------------+----------------+--------------------+----------+---------+---------+------------------+--------------------+----+\n",
      "|ARGUVEV1187B98BA17|           null|                 |            null|      Sierra Maestra|      null|313.12933|        1|SOGOSOV12AF72A285E|   ¿Dónde va Chichi?|1997|\n",
      "|ARD7TVE1187B99BFB1|           null|  California - LA|            null|              Casual|      null| 218.9318|        1|SOMZWCG12A8C13C480|    I Didn't Mean To|   0|\n",
      "|ARJIE2Y1187B994AB7|           null|                 |            null|         Line Renaud|      null|152.92036|        1|SOUPIRU12A6D4FA1E1| Der Kleine Dompfaff|   0|\n",
      "|ARKRRTF1187B9984DA|           null|                 |            null|    Sonora Santanera|      null|177.47546|        1|SOXVLOJ12AB0189215|     Amor De Cabaret|   0|\n",
      "|ARQGYP71187FB44566|       34.31109|      Mineola, AR|       -94.02978|        Jimmy Wakely|      null|151.84933|        1|SOWTBJW12AC468AC6E|Broken-Down Merry...|   0|\n",
      "|ARIK43K1187B9AE54C|           null|Beverly Hills, CA|            null|       Lionel Richie|      null| 307.3824|        1|SOBONFF12A6D4F84D8|Tonight Will Be A...|1986|\n",
      "|AR3JMC51187B9AE49D|       28.53823|      Orlando, FL|       -81.37739|     Backstreet Boys|      null|236.25098|        1|SOPVXLX12A8C1402D5|    Larger Than Life|1999|\n",
      "|ARPBNLO1187FB3D52F|       40.71455|     New York, NY|       -74.00712|            Tiny Tim|      null| 43.36281|        1|SOAOIBZ12AB01815BE|I Hold Your Hand ...|2000|\n",
      "|AR36F9J1187FB406F1|       56.27609|          Denmark|         9.51695|      Bombay Rockers|      null|230.71301|        1|SOBKWDJ12A8C13B2F3|Wild Rose (Back 2...|   0|\n",
      "|AR0IAWL1187B9A96D0|         8.4177|           Panama|       -80.11278|        Danilo Perez|      null| 197.1979|        1|SONSKXP12A8C13A2C9|         Native Soul|2003|\n",
      "|ARGIWFO1187B9B55B7|           null|                 |            null|      Five Bolt Main|      null| 225.0967|        1|SOPSWQW12A6D4F8781|Made Like This (L...|   0|\n",
      "|AREBBGV1187FB523D2|           null|      Houston, TX|            null|Mike Jones (Featu...|      null|173.66159|        1|SOOLYAZ12A6701F4A6|Laws Patrolling (...|   0|\n",
      "|ARKULSX1187FB45F84|       39.49974|             Utah|      -111.54732|              Trafik|      null|424.12363|        1|SOQVMXR12A81C21483|         Salt In NYC|   0|\n",
      "|ARNTLGG11E2835DDB9|           null|                 |            null|                 Clp|      null|266.39627|        1|SOUDSGM12AC9618304|Insatiable (Instr...|   0|\n",
      "|ARGSAFR1269FB35070|           null|                 |            null|          Blingtones|      null| 29.54404|        1|SOTCKKY12AB018A141|Sonnerie lalaleul...|   0|\n",
      "|AR7SMBG1187B9B9066|           null|                 |            null|         Los Manolos|      null|218.38322|        1|SOBCOSW12A8C13D398|  Rumba De Barcelona|   0|\n",
      "|AR5KOSW1187FB35FF4|       49.80388|        Dubai UAE|        15.47491|               Elena|      null|269.58322|        1|SOZCTXZ12AB0182364|      Setanta matins|   0|\n",
      "|ARBEBBY1187B9B43DB|           null|  Gainesville, FL|            null|           Tom Petty|      null| 236.1726|        1|SOFFKZS12AB017F194|A Higher Place (A...|1994|\n",
      "|AR1Y2PT1187FB5B9CE|       27.94017|          Brandon|       -82.32547|         John Wesley|      null|484.62323|        1|SOLLHMX12AB01846DC|   The Emperor Falls|   0|\n",
      "|AR7ZKHQ1187B98DD73|           null|                 |            null|                Glad|      null|  270.602|        1|SOTUKVB12AB0181477|   Blessed Assurance|1993|\n",
      "+------------------+---------------+-----------------+----------------+--------------------+----------+---------+---------+------------------+--------------------+----+\n",
      "only showing top 20 rows\n",
      "\n",
      "root\n",
      " |-- artist_id: string (nullable = true)\n",
      " |-- artist_latitude: float (nullable = true)\n",
      " |-- artist_location: string (nullable = true)\n",
      " |-- artist_longitude: float (nullable = true)\n",
      " |-- artist_name: string (nullable = true)\n",
      " |-- user_agent: string (nullable = true)\n",
      " |-- duration: float (nullable = true)\n",
      " |-- num_songs: integer (nullable = true)\n",
      " |-- song_id: string (nullable = true)\n",
      " |-- title: string (nullable = true)\n",
      " |-- year: integer (nullable = true)\n",
      "\n"
     ]
    }
   ],
   "source": [
    "song_df.show()\n",
    "song_df.printSchema()"
   ]
  },
  {
   "cell_type": "markdown",
   "metadata": {
    "pycharm": {
     "name": "#%% md\n"
    }
   },
   "source": [
    "<h3>Processing song data</h3>"
   ]
  },
  {
   "cell_type": "markdown",
   "metadata": {
    "pycharm": {
     "name": "#%% md\n"
    }
   },
   "source": [
    "Song table\n",
    "Requirements:\n",
    "\n",
    "* song_id, title, artist_id, year, duration"
   ]
  },
  {
   "cell_type": "code",
   "execution_count": 17,
   "metadata": {
    "pycharm": {
     "name": "#%%\n"
    }
   },
   "outputs": [
    {
     "name": "stdout",
     "output_type": "stream",
     "text": [
      "+------------------+--------------------+------------------+----+---------+\n",
      "|           song_id|               title|         artist_id|year| duration|\n",
      "+------------------+--------------------+------------------+----+---------+\n",
      "|SOBAYLL12A8C138AF9|Sono andati? Fing...|ARDR4AC1187FB371A1|   0|511.16364|\n",
      "|SOOLYAZ12A6701F4A6|Laws Patrolling (...|AREBBGV1187FB523D2|   0|173.66159|\n",
      "|SOBBUGU12A8C13E95D|Setting Fire to S...|ARMAC4T1187FB3FA4C|2004|207.77751|\n",
      "|SOAOIBZ12AB01815BE|I Hold Your Hand ...|ARPBNLO1187FB3D52F|2000| 43.36281|\n",
      "|SONYPOM12A8C13B2D7|I Think My Wife I...|ARDNS031187B9924F0|2005|186.48772|\n",
      "|SONWXQJ12A8C134D94|The Ballad Of Sle...|ARNF6401187FB57032|1994|  305.162|\n",
      "|SODREIN12A58A7F2E5|A Whiter Shade Of...|ARLTWXK1187FB5A3F8|   0|326.00772|\n",
      "|SOWQTQZ12A58A7B63E|Streets On Fire (...|ARPFHN61187FB575F6|   0|279.97995|\n",
      "|SODUJBS12A8C132150|Wessex Loses a Bride|ARI2JSK1187FB496EF|   0|111.62077|\n",
      "|SOBZBAZ12A6D4F8742|      Spanish Grease|AROUOZZ1187B9ABE51|1997|168.25424|\n",
      "|SOGXHEG12AB018653E|It Makes No Diffe...|AR0RCMP1187FB3F427|1992|133.32854|\n",
      "|SOZHPGD12A8C1394FE|     Baby Come To Me|AR9AWNF1187B9AB0B4|   0|236.93016|\n",
      "|SOBLGCN12AB0183212|James (Hold The L...|AR47JEX1187B995D81|1985|124.86485|\n",
      "|SOYMRWW12A6D4FAB14|The Moon And I (O...|ARKFYS91187B98E58F|   0| 267.7024|\n",
      "|SOHKNRJ12A6701D1F8|        Drop of Rain|AR10USD1187B99F3F1|   0|189.57016|\n",
      "|SOGNCJP12A58A80271|Do You Finally Ne...|ARB29H41187B98F0EF|1972|342.56934|\n",
      "|SOWTBJW12AC468AC6E|Broken-Down Merry...|ARQGYP71187FB44566|   0|151.84933|\n",
      "|SOTTDKS12AB018D69B|It Wont Be Christmas|ARMBR4Y1187B9990EB|   0|241.47546|\n",
      "|SOBKWDJ12A8C13B2F3|Wild Rose (Back 2...|AR36F9J1187FB406F1|   0|230.71301|\n",
      "|SOFFKZS12AB017F194|A Higher Place (A...|ARBEBBY1187B9B43DB|1994| 236.1726|\n",
      "+------------------+--------------------+------------------+----+---------+\n",
      "only showing top 20 rows\n",
      "\n"
     ]
    }
   ],
   "source": [
    "song_table_df = song_df.select(\n",
    "    song_df.song_id,\n",
    "    song_df.title,\n",
    "    song_df.artist_id,\n",
    "    song_df.year,\n",
    "    song_df.duration\n",
    ")\n",
    "song_table_df.show()"
   ]
  },
  {
   "cell_type": "markdown",
   "metadata": {
    "pycharm": {
     "name": "#%% md\n"
    }
   },
   "source": [
    "Artists table\n",
    "Requirements:\n",
    "\n",
    "* artist_id, name, location, lattitude, longitude"
   ]
  },
  {
   "cell_type": "code",
   "execution_count": 19,
   "metadata": {
    "pycharm": {
     "name": "#%%\n"
    }
   },
   "outputs": [
    {
     "name": "stdout",
     "output_type": "stream",
     "text": [
      "root\n",
      " |-- artist_id: string (nullable = true)\n",
      " |-- name: string (nullable = true)\n",
      " |-- location: string (nullable = true)\n",
      " |-- latitude: float (nullable = true)\n",
      " |-- longitude: float (nullable = true)\n",
      "\n"
     ]
    }
   ],
   "source": [
    "artists_table_df = song_df.select(\n",
    "    song_df.artist_id,\n",
    "    song_df.artist_name.alias('name'),\n",
    "    song_df.artist_location.alias('location'),\n",
    "    song_df.artist_latitude.alias('latitude'),\n",
    "    song_df.artist_longitude.alias('longitude')\n",
    ")\n",
    "artists_table_df.printSchema()"
   ]
  },
  {
   "cell_type": "markdown",
   "metadata": {
    "pycharm": {
     "name": "#%% md\n"
    }
   },
   "source": [
    "<h2>Logs</h2>\n",
    "song plays"
   ]
  },
  {
   "cell_type": "code",
   "execution_count": 20,
   "metadata": {
    "pycharm": {
     "name": "#%%\n"
    }
   },
   "outputs": [
    {
     "name": "stdout",
     "output_type": "stream",
     "text": [
      "root\n",
      " |-- firstName: string (nullable = true)\n",
      " |-- lastName: string (nullable = true)\n",
      " |-- gender: string (nullable = true)\n",
      " |-- level: string (nullable = true)\n",
      " |-- userid: string (nullable = true)\n",
      " |-- user_row_num: integer (nullable = true)\n",
      "\n"
     ]
    }
   ],
   "source": [
    "user_id_by_ts_window = Window.partitionBy(\n",
    "    col('userId'))\\\n",
    "    .orderBy(col('ts'))\n",
    "user_id_by_ts_window_ranged = Window.partitionBy(\n",
    "    col('userId'))\\\n",
    "    .orderBy(col('ts').desc())\\\n",
    "    .rangeBetween(Window.unboundedPreceding, Window.currentRow)\n",
    "next_song_log_df = log_df.filter(col('page') == 'NextSong')\n",
    "next_song_log_df = next_song_log_df\\\n",
    "    .withColumn('user_row_num', row_number().over(user_id_by_ts_window))\\\n",
    "    .withColumn('firstName', last('firstName').over(user_id_by_ts_window_ranged))\\\n",
    "    .withColumn('lastName', last('lastName').over(user_id_by_ts_window_ranged))\\\n",
    "    .withColumn('gender', last('gender').over(user_id_by_ts_window_ranged))\\\n",
    "    .withColumn('level', last('level').over(user_id_by_ts_window_ranged))\\\n",
    "    .select('firstName', 'lastName', 'gender', 'level', 'userid','user_row_num')\\\n",
    "    .where(col('user_row_num') == 1)\n",
    "next_song_log_df.printSchema()"
   ]
  },
  {
   "cell_type": "markdown",
   "metadata": {
    "pycharm": {
     "name": "#%% md\n"
    }
   },
   "source": [
    "Artist\n",
    "artist_id, name, location, lattitude, longitude"
   ]
  },
  {
   "cell_type": "code",
   "execution_count": 23,
   "metadata": {
    "pycharm": {
     "name": "#%%\n"
    }
   },
   "outputs": [
    {
     "name": "stdout",
     "output_type": "stream",
     "text": [
      "+------------------+--------------------+--------------------+--------+---------+\n",
      "|         artist_id|                name|            location|latitude|longitude|\n",
      "+------------------+--------------------+--------------------+--------+---------+\n",
      "|AR9AWNF1187B9AB0B4|Kenny G featuring...|Seattle, Washingt...|    null|     null|\n",
      "|AR0IAWL1187B9A96D0|        Danilo Perez|              Panama|  8.4177|-80.11278|\n",
      "|AR0RCMP1187FB3F427|    Billie Jo Spears|        Beaumont, TX|30.08615|-94.10158|\n",
      "|AREDL271187FB40F44|        Soul Mekanik|                    |    null|     null|\n",
      "|ARI3BMM1187FB4255E|        Alice Stuart|          Washington| 38.8991|  -77.029|\n",
      "|AR7SMBG1187B9B9066|         Los Manolos|                    |    null|     null|\n",
      "|ARMAC4T1187FB3FA4C|The Dillinger Esc...|   Morris Plains, NJ|40.82624|-74.47995|\n",
      "|ARNTLGG11E2835DDB9|                 Clp|                    |    null|     null|\n",
      "|ARKRRTF1187B9984DA|    Sonora Santanera|                    |    null|     null|\n",
      "|AR051KA1187B98B2FF|               Wilks|                    |    null|     null|\n",
      "|AR10USD1187B99F3F1|Tweeterfriendly M...|Burlington, Ontar...|    null|     null|\n",
      "|AR7ZKHQ1187B98DD73|                Glad|                    |    null|     null|\n",
      "|ARQ9BO41187FB5CF1F|          John Davis|        Pennsylvania|40.99471|-77.60454|\n",
      "|AR7G5I41187FB4CE6C|            Adam Ant|     London, England|    null|     null|\n",
      "|ARGCY1Y1187B9A4FA5|            Gloriana|      Nashville, TN.|36.16778|-86.77836|\n",
      "|AR558FS1187FB45658|             40 Grit|                    |    null|     null|\n",
      "|ARAJPHH1187FB5566A|     The Shangri-Las|          Queens, NY| 40.7038|-73.83168|\n",
      "|ARKFYS91187B98E58F|Jeff And Sheri Ea...|                    |    null|     null|\n",
      "|ARD842G1187B997376|          Blue Rodeo|Toronto, Ontario,...|43.64856|-79.38533|\n",
      "|AR8ZCNI1187B9A069B|    Planet P Project|                    |    null|     null|\n",
      "+------------------+--------------------+--------------------+--------+---------+\n",
      "only showing top 20 rows\n",
      "\n"
     ]
    }
   ],
   "source": [
    "songs_df = song_df.select('artist_id', 'artist_name', 'artist_location', 'artist_latitude', 'artist_longitude')\\\n",
    "    .withColumnRenamed('artist_name','name')\\\n",
    "    .withColumnRenamed('artist_location','location')\\\n",
    "    .withColumnRenamed('artist_latitude','latitude')\\\n",
    "    .withColumnRenamed('artist_longitude','longitude')\\\n",
    "    .dropDuplicates(['artist_id'])\n",
    "songs_df.show()"
   ]
  },
  {
   "cell_type": "markdown",
   "metadata": {
    "pycharm": {
     "name": "#%% md\n"
    }
   },
   "source": [
    "time start_time, hour, day, week, month, year, weekday"
   ]
  },
  {
   "cell_type": "code",
   "execution_count": 8,
   "metadata": {
    "pycharm": {
     "name": "#%%\n"
    }
   },
   "outputs": [
    {
     "name": "stdout",
     "output_type": "stream",
     "text": [
      "+----------+-------------------+----+---+----+-----+-------+-------+\n",
      "|start_time|     ts_as_datetime|hour|day|week|month|houyear|weekday|\n",
      "+----------+-------------------+----+---+----+-----+-------+-------+\n",
      "|1542303240|2018-11-16 04:34:00|   4| 16|  46|   11|   2018|     46|\n",
      "|1542310732|2018-11-16 06:38:52|   6| 16|  46|   11|   2018|     46|\n",
      "|1542777793|2018-11-21 16:23:13|  16| 21|  47|   11|   2018|     47|\n",
      "|1542789405|2018-11-21 19:36:45|  19| 21|  47|   11|   2018|     47|\n",
      "|1542809782|2018-11-22 01:16:22|   1| 22|  47|   11|   2018|     47|\n",
      "|1542166466|2018-11-14 14:34:26|  14| 14|  46|   11|   2018|     46|\n",
      "|1542180760|2018-11-14 18:32:40|  18| 14|  46|   11|   2018|     46|\n",
      "|1542219957|2018-11-15 05:25:57|   5| 15|  46|   11|   2018|     46|\n",
      "|1542226599|2018-11-15 07:16:39|   7| 15|  46|   11|   2018|     46|\n",
      "|1543369249|2018-11-28 12:40:49|  12| 28|  48|   11|   2018|     48|\n",
      "|1543423894|2018-11-29 03:51:34|   3| 29|  48|   11|   2018|     48|\n",
      "|1541417478|2018-11-05 22:31:18|  22|  5|  45|   11|   2018|     45|\n",
      "|1542148804|2018-11-14 09:40:04|   9| 14|  46|   11|   2018|     46|\n",
      "|1543548069|2018-11-30 14:21:09|  14| 30|  48|   11|   2018|     48|\n",
      "|1543554669|2018-11-30 16:11:09|  16| 30|  48|   11|   2018|     48|\n",
      "|1542369975|2018-11-16 23:06:15|  23| 16|  46|   11|   2018|     46|\n",
      "|1542391985|2018-11-17 05:13:05|   5| 17|  46|   11|   2018|     46|\n",
      "|1542680352|2018-11-20 13:19:12|  13| 20|  47|   11|   2018|     47|\n",
      "|1542729999|2018-11-21 03:06:39|   3| 21|  47|   11|   2018|     47|\n",
      "|1543029034|2018-11-24 14:10:34|  14| 24|  47|   11|   2018|     47|\n",
      "+----------+-------------------+----+---+----+-----+-------+-------+\n",
      "only showing top 20 rows\n",
      "\n",
      "root\n",
      " |-- start_time: integer (nullable = true)\n",
      " |-- ts_as_datetime: timestamp (nullable = true)\n",
      " |-- hour: integer (nullable = true)\n",
      " |-- day: integer (nullable = true)\n",
      " |-- week: integer (nullable = true)\n",
      " |-- month: integer (nullable = true)\n",
      " |-- houyear: integer (nullable = true)\n",
      " |-- weekday: integer (nullable = true)\n",
      "\n"
     ]
    }
   ],
   "source": [
    "time_df = log_df.withColumn('ts', col('ts')/1000).select(col('ts').cast(IntegerType()))\\\n",
    "    .dropDuplicates().withColumnRenamed('ts','start_time')\n",
    "time_df = time_df\\\n",
    "    .withColumn('ts_as_datetime', from_unixtime(col('start_time'), 'yyyy-MM-dd HH:mm:ss').cast(TimestampType()))\\\n",
    "    .withColumn('hour', hour(col('ts_as_datetime')))\\\n",
    "    .withColumn('day', dayofmonth(col('ts_as_datetime')))\\\n",
    "    .withColumn('week', weekofyear(col('ts_as_datetime')))\\\n",
    "    .withColumn('month', month(col('ts_as_datetime')))\\\n",
    "    .withColumn('houyear', year(col('ts_as_datetime')))\\\n",
    "    .withColumn('weekday', weekofyear(col('ts_as_datetime')))\n",
    "time_df.show()\n",
    "time_df.printSchema()"
   ]
  },
  {
   "cell_type": "code",
   "execution_count": 14,
   "metadata": {
    "pycharm": {
     "name": "#%%\n"
    }
   },
   "outputs": [
    {
     "name": "stdout",
     "output_type": "stream",
     "text": [
      "+----------+-------------------+----+---+----+-----+-------+-------+--------------------+\n",
      "|start_time|     ts_as_datetime|hour|day|week|month|houyear|weekday|                  id|\n",
      "+----------+-------------------+----+---+----+-----+-------+-------+--------------------+\n",
      "|1542303240|2018-11-16 04:34:00|   4| 16|  46|   11|   2018|     46|5478d126-3a2e-4a7...|\n",
      "|1542310732|2018-11-16 06:38:52|   6| 16|  46|   11|   2018|     46|9c9d13b6-6f75-490...|\n",
      "|1542777793|2018-11-21 16:23:13|  16| 21|  47|   11|   2018|     47|63a41073-6c3a-434...|\n",
      "|1542789405|2018-11-21 19:36:45|  19| 21|  47|   11|   2018|     47|ee341bec-001e-418...|\n",
      "|1542809782|2018-11-22 01:16:22|   1| 22|  47|   11|   2018|     47|e3e62b54-9914-452...|\n",
      "|1542166466|2018-11-14 14:34:26|  14| 14|  46|   11|   2018|     46|87411f2a-4647-484...|\n",
      "|1542180760|2018-11-14 18:32:40|  18| 14|  46|   11|   2018|     46|fd805ea7-6099-4f2...|\n",
      "|1542219957|2018-11-15 05:25:57|   5| 15|  46|   11|   2018|     46|6bca7446-70e7-471...|\n",
      "|1542226599|2018-11-15 07:16:39|   7| 15|  46|   11|   2018|     46|a0b5604b-d91c-4ca...|\n",
      "|1543369249|2018-11-28 12:40:49|  12| 28|  48|   11|   2018|     48|cf04cbc7-7496-4ce...|\n",
      "|1543423894|2018-11-29 03:51:34|   3| 29|  48|   11|   2018|     48|5064e3ec-d56c-43a...|\n",
      "|1541417478|2018-11-05 22:31:18|  22|  5|  45|   11|   2018|     45|87ff8039-fdeb-49b...|\n",
      "|1542148804|2018-11-14 09:40:04|   9| 14|  46|   11|   2018|     46|1df60816-b04d-43c...|\n",
      "|1543548069|2018-11-30 14:21:09|  14| 30|  48|   11|   2018|     48|76f1a25a-2709-40a...|\n",
      "|1543554669|2018-11-30 16:11:09|  16| 30|  48|   11|   2018|     48|9ac15b25-fae9-4da...|\n",
      "|1542369975|2018-11-16 23:06:15|  23| 16|  46|   11|   2018|     46|0d1ac60e-cc73-4c5...|\n",
      "|1542391985|2018-11-17 05:13:05|   5| 17|  46|   11|   2018|     46|2d690441-2568-467...|\n",
      "|1542680352|2018-11-20 13:19:12|  13| 20|  47|   11|   2018|     47|f49b0e2d-f2ef-471...|\n",
      "|1542729999|2018-11-21 03:06:39|   3| 21|  47|   11|   2018|     47|dcc97d76-f9db-405...|\n",
      "|1543029034|2018-11-24 14:10:34|  14| 24|  47|   11|   2018|     47|d8545869-77fd-4e4...|\n",
      "+----------+-------------------+----+---+----+-----+-------+-------+--------------------+\n",
      "only showing top 20 rows\n",
      "\n"
     ]
    }
   ],
   "source": [
    "uuidUdf= udf(lambda : str(uuid.uuid4()),StringType())\n",
    "time_df.withColumn(\"id\",uuidUdf()).show()"
   ]
  },
  {
   "cell_type": "code",
   "execution_count": 2,
   "metadata": {
    "pycharm": {
     "name": "#%%\n"
    }
   },
   "outputs": [],
   "source": [
    "import boto3\n",
    "import os\n",
    "\n",
    "def download_dir(client, resource, dist, local='c:\\\\tmp', bucket='your_bucket'):\n",
    "    paginator = client.get_paginator('list_objects')\n",
    "    for result in paginator.paginate(Bucket=bucket, Delimiter='/', Prefix=dist):\n",
    "        if result.get('CommonPrefixes') is not None:\n",
    "            for subdir in result.get('CommonPrefixes'):\n",
    "                download_dir(client, resource, subdir.get('Prefix'), local, bucket)\n",
    "        for file in result.get('Contents', []):\n",
    "            dest_pathname = os.path.join(local, file.get('Key'))\n",
    "            if not os.path.exists(os.path.dirname(dest_pathname)):\n",
    "                os.makedirs(os.path.dirname(dest_pathname))\n",
    "            resource.meta.client.download_file(bucket, file.get('Key'), dest_pathname)\n",
    "\n",
    "def _start():\n",
    "    client = boto3.client('s3')\n",
    "    resource = boto3.resource('s3')\n",
    "    download_dir(client, resource, 'song_data/', 'c:\\\\tmp', bucket='udacity-dend')"
   ]
  },
  {
   "cell_type": "code",
   "execution_count": null,
   "metadata": {
    "pycharm": {
     "is_executing": true,
     "name": "#%%\n"
    }
   },
   "outputs": [],
   "source": [
    "_start()"
   ]
  },
  {
   "cell_type": "code",
   "execution_count": 52,
   "metadata": {
    "pycharm": {
     "name": "#%%\n"
    }
   },
   "outputs": [],
   "source": [
    "def read_song_data(spark, input_data):\n",
    "    \"\"\"\n",
    "    Convenience wrapper function to get a read dataframe for the song data json files\n",
    "    :param spark: spark session to execute queries against\n",
    "    :param input_data: s3 bucket (formatted) location of the input data\n",
    "    :return: spark dataframe with the loaded song data\n",
    "    \"\"\"\n",
    "    song_data = f\"{input_data}/song_data/*/*/*/*.json\"\n",
    "\n",
    "    schema = StructType([\n",
    "        StructField(\"artist_id\", StringType()),\n",
    "        StructField(\"artist_latitude\", FloatType()),\n",
    "        StructField(\"artist_location\", StringType()),\n",
    "        StructField(\"artist_longitude\", FloatType()),\n",
    "        StructField(\"artist_name\", StringType()),\n",
    "        StructField(\"duration\", FloatType()),\n",
    "        StructField(\"num_songs\", IntegerType()),\n",
    "        StructField(\"song_id\", StringType()),\n",
    "        StructField(\"title\", StringType()),\n",
    "        StructField(\"year\", IntegerType())\n",
    "    ])\n",
    "    return spark.read.json(song_data, schema=schema)\n",
    "\n",
    "def process_log_data(spark, input_data, output_data):\n",
    "    \"\"\"\n",
    "    The function that starts processing of the log data set\n",
    "    :param spark: spark session to execute queries against\n",
    "    :param input_data: s3 bucket (formatted) location of the input data\n",
    "    :param output_data: s3 bucket (formatted) of the output data\n",
    "    \"\"\"\n",
    "    # get filepath to log data file\n",
    "    log_data = f\"{input_data}/log_data/\"\n",
    "\n",
    "    # read log data file\n",
    "    log_df = spark.read.json(log_data)\n",
    "\n",
    "    # filter by actions for song plays\n",
    "    next_song_log_df = log_df.filter(col('page') == 'NextSong')\n",
    "\n",
    "    # extract columns for users table\n",
    "    user_id_by_ts_window = Window.partitionBy(\n",
    "        col('userId')) \\\n",
    "        .orderBy(col('ts'))\n",
    "    user_id_by_ts_window_ranged = Window.partitionBy(\n",
    "        col('userId')) \\\n",
    "        .orderBy(col('ts').desc()) \\\n",
    "        .rangeBetween(Window.unboundedPreceding, Window.currentRow)\n",
    "\n",
    "    users_df = next_song_log_df \\\n",
    "        .withColumn('user_row_num', row_number().over(user_id_by_ts_window)) \\\n",
    "        .withColumn('firstName', last('firstName').over(user_id_by_ts_window_ranged)) \\\n",
    "        .withColumn('lastName', last('lastName').over(user_id_by_ts_window_ranged)) \\\n",
    "        .withColumn('gender', last('gender').over(user_id_by_ts_window_ranged)) \\\n",
    "        .withColumn('level', last('level').over(user_id_by_ts_window_ranged)) \\\n",
    "        .select('firstName', 'lastName', 'gender', 'level', 'userid', 'user_row_num') \\\n",
    "        .where(col('user_row_num') == 1)\n",
    "\n",
    "    # write users table to parquet files\n",
    "    # users_df \\\n",
    "    #     .write \\\n",
    "    #     .mode(\"overwrite\") \\\n",
    "    #     .parquet(f\"{output_data}/users_table\")\n",
    "\n",
    "    # create timestamp column from original timestamp column\n",
    "    log_with_time_df = log_df\\\n",
    "        .withColumn('start_time',\n",
    "                    (col('ts') / 1000).cast(IntegerType()))\\\n",
    "        .dropDuplicates()\n",
    "    log_with_time_df = log_with_time_df \\\n",
    "        .withColumn('ts_as_datetime', from_unixtime(col('start_time'), 'yyyy-MM-dd HH:mm:ss').cast(TimestampType())) \\\n",
    "        .withColumn('hour', hour(col('ts_as_datetime'))) \\\n",
    "        .withColumn('day', dayofmonth(col('ts_as_datetime'))) \\\n",
    "        .withColumn('week', weekofyear(col('ts_as_datetime'))) \\\n",
    "        .withColumn('month', month(col('ts_as_datetime'))) \\\n",
    "        .withColumn('year', year(col('ts_as_datetime'))) \\\n",
    "        .withColumn('weekday', weekofyear(col('ts_as_datetime')))\n",
    "\n",
    "    # write time table to parquet files partitioned by year and month\n",
    "    # log_with_time_df \\\n",
    "    #     .write \\\n",
    "    #     .partitionBy('year', 'month') \\\n",
    "    #     .mode(\"overwrite\") \\\n",
    "    #     .parquet(f\"{output_data}/time_table\")\n",
    "\n",
    "    # read in song data to use for songplays table\n",
    "    song_df = read_song_data(spark, input_data)\n",
    "    song_df = song_df.drop('year')\n",
    "    log_with_time_df = log_with_time_df.withColumn('userAgent', (col('userAgent').cast(StringType())))\n",
    "    log_with_time_df.printSchema()\n",
    "    song_df.printSchema()\n",
    "\n",
    "    # extract columns from joined song and log datasets to create songplays table\n",
    "    uuidUdf = udf(lambda: str(uuid.uuid4()), StringType())\n",
    "    songplays_table = log_with_time_df \\\n",
    "        .join(song_df, song_df.title == log_df.song) \\\n",
    "        .withColumn('songplay_id', uuidUdf())\\\n",
    "        .select(\n",
    "            col('songplay_id').alias('songplay_id'),\n",
    "            col('start_time').alias('start_time'),\n",
    "            col('userId').alias('user_id'),\n",
    "            col('level').alias('level'),\n",
    "            col('song_id').alias('song_id'),\n",
    "            col('artist_id').alias('artist_id'),\n",
    "            col('sessionId').alias('session_id'),\n",
    "            col('location').alias('location'),\n",
    "            col('userAgent').alias('user_agent'),\n",
    "            col('year').alias('year'),\n",
    "            col('month').alias('month'),\n",
    "        )\n",
    "\n",
    "    songplays_table.printSchema()"
   ]
  },
  {
   "cell_type": "code",
   "execution_count": 53,
   "metadata": {
    "pycharm": {
     "name": "#%%\n"
    }
   },
   "outputs": [
    {
     "name": "stdout",
     "output_type": "stream",
     "text": [
      "root\n",
      " |-- artist: string (nullable = true)\n",
      " |-- auth: string (nullable = true)\n",
      " |-- firstName: string (nullable = true)\n",
      " |-- gender: string (nullable = true)\n",
      " |-- itemInSession: long (nullable = true)\n",
      " |-- lastName: string (nullable = true)\n",
      " |-- length: double (nullable = true)\n",
      " |-- level: string (nullable = true)\n",
      " |-- location: string (nullable = true)\n",
      " |-- method: string (nullable = true)\n",
      " |-- page: string (nullable = true)\n",
      " |-- registration: double (nullable = true)\n",
      " |-- sessionId: long (nullable = true)\n",
      " |-- song: string (nullable = true)\n",
      " |-- status: long (nullable = true)\n",
      " |-- ts: long (nullable = true)\n",
      " |-- userAgent: string (nullable = true)\n",
      " |-- userId: string (nullable = true)\n",
      " |-- start_time: integer (nullable = true)\n",
      " |-- ts_as_datetime: timestamp (nullable = true)\n",
      " |-- hour: integer (nullable = true)\n",
      " |-- day: integer (nullable = true)\n",
      " |-- week: integer (nullable = true)\n",
      " |-- month: integer (nullable = true)\n",
      " |-- year: integer (nullable = true)\n",
      " |-- weekday: integer (nullable = true)\n",
      "\n",
      "root\n",
      " |-- artist_id: string (nullable = true)\n",
      " |-- artist_latitude: float (nullable = true)\n",
      " |-- artist_location: string (nullable = true)\n",
      " |-- artist_longitude: float (nullable = true)\n",
      " |-- artist_name: string (nullable = true)\n",
      " |-- duration: float (nullable = true)\n",
      " |-- num_songs: integer (nullable = true)\n",
      " |-- song_id: string (nullable = true)\n",
      " |-- title: string (nullable = true)\n",
      "\n",
      "root\n",
      " |-- songplay_id: string (nullable = true)\n",
      " |-- start_time: integer (nullable = true)\n",
      " |-- user_id: string (nullable = true)\n",
      " |-- level: string (nullable = true)\n",
      " |-- song_id: string (nullable = true)\n",
      " |-- artist_id: string (nullable = true)\n",
      " |-- session_id: long (nullable = true)\n",
      " |-- location: string (nullable = true)\n",
      " |-- user_agent: string (nullable = true)\n",
      " |-- year: integer (nullable = true)\n",
      " |-- month: integer (nullable = true)\n",
      "\n"
     ]
    }
   ],
   "source": [
    "process_log_data(spark, '../data', '../data/output')\n"
   ]
  }
 ],
 "metadata": {
  "kernelspec": {
   "display_name": "Python 3",
   "language": "python",
   "name": "python3"
  },
  "language_info": {
   "codemirror_mode": {
    "name": "ipython",
    "version": 3
   },
   "file_extension": ".py",
   "mimetype": "text/x-python",
   "name": "python",
   "nbconvert_exporter": "python",
   "pygments_lexer": "ipython3",
   "version": "3.6.5"
  }
 },
 "nbformat": 4,
 "nbformat_minor": 1
}